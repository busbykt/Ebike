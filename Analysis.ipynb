{
 "cells": [
  {
   "cell_type": "code",
   "execution_count": 122,
   "metadata": {},
   "outputs": [],
   "source": [
    "import xml.etree.ElementTree as ET\n",
    "import pandas as pd\n",
    "import geopy\n",
    "import math\n",
    "import matplotlib.pyplot as plt\n",
    "from geopy.distance import distance"
   ]
  },
  {
   "cell_type": "code",
   "execution_count": 123,
   "metadata": {},
   "outputs": [],
   "source": [
    "# Process the .gpx xml file\n",
    "\n",
    "tree = ET.parse('GDMBR.gpx')\n",
    "root = tree.getroot()\n",
    "\n",
    "myList = []\n",
    "\n",
    "for child in root[1][1]:\n",
    "    \n",
    "    lat = child.attrib['lat']\n",
    "    lon = child.attrib['lon']\n",
    "    ele = child[0].text\n",
    "    \n",
    "    myList.append([lat,lon,ele])\n",
    "    \n",
    "df = pd.DataFrame(myList, columns=['lat', 'lon', 'ele'])   "
   ]
  },
  {
   "cell_type": "code",
   "execution_count": 124,
   "metadata": {},
   "outputs": [],
   "source": [
    "df[['lat_prev', 'lon_prev', 'ele_prev']] = df[['lat', 'lon', 'ele']].shift()"
   ]
  },
  {
   "cell_type": "code",
   "execution_count": 125,
   "metadata": {},
   "outputs": [],
   "source": [
    "df = df.astype(float)"
   ]
  },
  {
   "cell_type": "code",
   "execution_count": 126,
   "metadata": {},
   "outputs": [],
   "source": [
    "def dfDistance(row):\n",
    "    \n",
    "    if math.isnan(row['lat_prev']):\n",
    "        return 0\n",
    "    \n",
    "    return distance((row['lat'],row['lon']),\n",
    "                    (row['lat_prev'],row['lon_prev'])).kilometers\n"
   ]
  },
  {
   "cell_type": "code",
   "execution_count": 127,
   "metadata": {},
   "outputs": [],
   "source": [
    "df['dist'] = df.apply(dfDistance, axis=1)\n",
    "df = df[df['dist'] > 0]\n",
    "\n",
    "# calculate the gradient between the points\n",
    "df['eleDiff'] = df['ele'] - df['ele_prev']\n",
    "df['grade'] = df['eleDiff']/(df['dist']*1000)"
   ]
  },
  {
   "cell_type": "markdown",
   "metadata": {},
   "source": [
    "Remove points and recalculate metrics until there are no more erroneous grades."
   ]
  },
  {
   "cell_type": "code",
   "execution_count": 128,
   "metadata": {},
   "outputs": [
    {
     "name": "stdout",
     "output_type": "stream",
     "text": [
      "18047\n",
      "18011\n",
      "18006\n",
      "18003\n",
      "18002\n"
     ]
    }
   ],
   "source": [
    "badGrades = (len(df[abs(df['grade']) > .35]) >= 1)\n",
    "\n",
    "while badGrades:\n",
    "    \n",
    "    print(len(df))\n",
    "    \n",
    "    df = df[(abs(df['grade']) < .35) | (df['grade'].isna())]\n",
    "    \n",
    "    df[['lat_prev', 'lon_prev', 'ele_prev']] = df[['lat', 'lon', 'ele']].shift()\n",
    "    df['dist'] = df.apply(dfDistance, axis=1)\n",
    "\n",
    "    # calculate the gradient between the points\n",
    "    df['eleDiff'] = df['ele'] - df['ele_prev']\n",
    "    df['grade'] = df['eleDiff']/(df['dist']*1000)\n",
    "    \n",
    "    badGrades = (len(df[abs(df['grade']) > .35]) >= 1)"
   ]
  },
  {
   "cell_type": "code",
   "execution_count": 129,
   "metadata": {},
   "outputs": [],
   "source": [
    "df['slope'] = np.arctan(df['grade'])"
   ]
  },
  {
   "cell_type": "code",
   "execution_count": 130,
   "metadata": {},
   "outputs": [
    {
     "data": {
      "text/html": [
       "<div>\n",
       "<style scoped>\n",
       "    .dataframe tbody tr th:only-of-type {\n",
       "        vertical-align: middle;\n",
       "    }\n",
       "\n",
       "    .dataframe tbody tr th {\n",
       "        vertical-align: top;\n",
       "    }\n",
       "\n",
       "    .dataframe thead th {\n",
       "        text-align: right;\n",
       "    }\n",
       "</style>\n",
       "<table border=\"1\" class=\"dataframe\">\n",
       "  <thead>\n",
       "    <tr style=\"text-align: right;\">\n",
       "      <th></th>\n",
       "      <th>lat</th>\n",
       "      <th>lon</th>\n",
       "      <th>ele</th>\n",
       "      <th>lat_prev</th>\n",
       "      <th>lon_prev</th>\n",
       "      <th>ele_prev</th>\n",
       "      <th>dist</th>\n",
       "      <th>eleDiff</th>\n",
       "      <th>grade</th>\n",
       "      <th>slope</th>\n",
       "    </tr>\n",
       "  </thead>\n",
       "  <tbody>\n",
       "    <tr>\n",
       "      <th>1</th>\n",
       "      <td>51.160931</td>\n",
       "      <td>-115.559829</td>\n",
       "      <td>1406.765991</td>\n",
       "      <td>NaN</td>\n",
       "      <td>NaN</td>\n",
       "      <td>NaN</td>\n",
       "      <td>0.000000</td>\n",
       "      <td>NaN</td>\n",
       "      <td>NaN</td>\n",
       "      <td>NaN</td>\n",
       "    </tr>\n",
       "    <tr>\n",
       "      <th>2</th>\n",
       "      <td>51.160872</td>\n",
       "      <td>-115.559809</td>\n",
       "      <td>1406.886963</td>\n",
       "      <td>51.160931</td>\n",
       "      <td>-115.559829</td>\n",
       "      <td>1406.765991</td>\n",
       "      <td>0.006711</td>\n",
       "      <td>0.120972</td>\n",
       "      <td>0.018025</td>\n",
       "      <td>0.018023</td>\n",
       "    </tr>\n",
       "    <tr>\n",
       "      <th>3</th>\n",
       "      <td>51.160814</td>\n",
       "      <td>-115.559683</td>\n",
       "      <td>1406.536011</td>\n",
       "      <td>51.160872</td>\n",
       "      <td>-115.559809</td>\n",
       "      <td>1406.886963</td>\n",
       "      <td>0.010924</td>\n",
       "      <td>-0.350952</td>\n",
       "      <td>-0.032128</td>\n",
       "      <td>-0.032116</td>\n",
       "    </tr>\n",
       "    <tr>\n",
       "      <th>4</th>\n",
       "      <td>51.160696</td>\n",
       "      <td>-115.559269</td>\n",
       "      <td>1405.836060</td>\n",
       "      <td>51.160814</td>\n",
       "      <td>-115.559683</td>\n",
       "      <td>1406.536011</td>\n",
       "      <td>0.031798</td>\n",
       "      <td>-0.699951</td>\n",
       "      <td>-0.022013</td>\n",
       "      <td>-0.022009</td>\n",
       "    </tr>\n",
       "    <tr>\n",
       "      <th>5</th>\n",
       "      <td>51.160490</td>\n",
       "      <td>-115.558975</td>\n",
       "      <td>1405.931030</td>\n",
       "      <td>51.160696</td>\n",
       "      <td>-115.559269</td>\n",
       "      <td>1405.836060</td>\n",
       "      <td>0.030793</td>\n",
       "      <td>0.094970</td>\n",
       "      <td>0.003084</td>\n",
       "      <td>0.003084</td>\n",
       "    </tr>\n",
       "    <tr>\n",
       "      <th>...</th>\n",
       "      <td>...</td>\n",
       "      <td>...</td>\n",
       "      <td>...</td>\n",
       "      <td>...</td>\n",
       "      <td>...</td>\n",
       "      <td>...</td>\n",
       "      <td>...</td>\n",
       "      <td>...</td>\n",
       "      <td>...</td>\n",
       "      <td>...</td>\n",
       "    </tr>\n",
       "    <tr>\n",
       "      <th>18046</th>\n",
       "      <td>31.353338</td>\n",
       "      <td>-108.531870</td>\n",
       "      <td>1423.000000</td>\n",
       "      <td>31.394864</td>\n",
       "      <td>-108.561707</td>\n",
       "      <td>1439.000000</td>\n",
       "      <td>5.408821</td>\n",
       "      <td>-16.000000</td>\n",
       "      <td>-0.002958</td>\n",
       "      <td>-0.002958</td>\n",
       "    </tr>\n",
       "    <tr>\n",
       "      <th>18047</th>\n",
       "      <td>31.350737</td>\n",
       "      <td>-108.531126</td>\n",
       "      <td>1422.000000</td>\n",
       "      <td>31.353338</td>\n",
       "      <td>-108.531870</td>\n",
       "      <td>1423.000000</td>\n",
       "      <td>0.296949</td>\n",
       "      <td>-1.000000</td>\n",
       "      <td>-0.003368</td>\n",
       "      <td>-0.003368</td>\n",
       "    </tr>\n",
       "    <tr>\n",
       "      <th>18048</th>\n",
       "      <td>31.335328</td>\n",
       "      <td>-108.531163</td>\n",
       "      <td>1418.000000</td>\n",
       "      <td>31.350737</td>\n",
       "      <td>-108.531126</td>\n",
       "      <td>1422.000000</td>\n",
       "      <td>1.708482</td>\n",
       "      <td>-4.000000</td>\n",
       "      <td>-0.002341</td>\n",
       "      <td>-0.002341</td>\n",
       "    </tr>\n",
       "    <tr>\n",
       "      <th>18049</th>\n",
       "      <td>31.333430</td>\n",
       "      <td>-108.530234</td>\n",
       "      <td>1419.000000</td>\n",
       "      <td>31.335328</td>\n",
       "      <td>-108.531163</td>\n",
       "      <td>1418.000000</td>\n",
       "      <td>0.228259</td>\n",
       "      <td>1.000000</td>\n",
       "      <td>0.004381</td>\n",
       "      <td>0.004381</td>\n",
       "    </tr>\n",
       "    <tr>\n",
       "      <th>18050</th>\n",
       "      <td>31.333908</td>\n",
       "      <td>-108.530433</td>\n",
       "      <td>1418.000000</td>\n",
       "      <td>31.333430</td>\n",
       "      <td>-108.530234</td>\n",
       "      <td>1419.000000</td>\n",
       "      <td>0.056281</td>\n",
       "      <td>-1.000000</td>\n",
       "      <td>-0.017768</td>\n",
       "      <td>-0.017766</td>\n",
       "    </tr>\n",
       "  </tbody>\n",
       "</table>\n",
       "<p>18001 rows × 10 columns</p>\n",
       "</div>"
      ],
      "text/plain": [
       "             lat         lon          ele   lat_prev    lon_prev     ele_prev  \\\n",
       "1      51.160931 -115.559829  1406.765991        NaN         NaN          NaN   \n",
       "2      51.160872 -115.559809  1406.886963  51.160931 -115.559829  1406.765991   \n",
       "3      51.160814 -115.559683  1406.536011  51.160872 -115.559809  1406.886963   \n",
       "4      51.160696 -115.559269  1405.836060  51.160814 -115.559683  1406.536011   \n",
       "5      51.160490 -115.558975  1405.931030  51.160696 -115.559269  1405.836060   \n",
       "...          ...         ...          ...        ...         ...          ...   \n",
       "18046  31.353338 -108.531870  1423.000000  31.394864 -108.561707  1439.000000   \n",
       "18047  31.350737 -108.531126  1422.000000  31.353338 -108.531870  1423.000000   \n",
       "18048  31.335328 -108.531163  1418.000000  31.350737 -108.531126  1422.000000   \n",
       "18049  31.333430 -108.530234  1419.000000  31.335328 -108.531163  1418.000000   \n",
       "18050  31.333908 -108.530433  1418.000000  31.333430 -108.530234  1419.000000   \n",
       "\n",
       "           dist    eleDiff     grade     slope  \n",
       "1      0.000000        NaN       NaN       NaN  \n",
       "2      0.006711   0.120972  0.018025  0.018023  \n",
       "3      0.010924  -0.350952 -0.032128 -0.032116  \n",
       "4      0.031798  -0.699951 -0.022013 -0.022009  \n",
       "5      0.030793   0.094970  0.003084  0.003084  \n",
       "...         ...        ...       ...       ...  \n",
       "18046  5.408821 -16.000000 -0.002958 -0.002958  \n",
       "18047  0.296949  -1.000000 -0.003368 -0.003368  \n",
       "18048  1.708482  -4.000000 -0.002341 -0.002341  \n",
       "18049  0.228259   1.000000  0.004381  0.004381  \n",
       "18050  0.056281  -1.000000 -0.017768 -0.017766  \n",
       "\n",
       "[18001 rows x 10 columns]"
      ]
     },
     "execution_count": 130,
     "metadata": {},
     "output_type": "execute_result"
    }
   ],
   "source": [
    "df"
   ]
  },
  {
   "cell_type": "code",
   "execution_count": 131,
   "metadata": {},
   "outputs": [],
   "source": [
    "calcDF = df[['dist','slope']].iloc[1:].copy()"
   ]
  },
  {
   "cell_type": "code",
   "execution_count": 139,
   "metadata": {},
   "outputs": [
    {
     "data": {
      "text/plain": [
       "<AxesSubplot:>"
      ]
     },
     "execution_count": 139,
     "metadata": {},
     "output_type": "execute_result"
    },
    {
     "data": {
      "image/png": "[encoded data removed]",
      "text/plain": [
       "<Figure size 432x288 with 1 Axes>"
      ]
     },
     "metadata": {
      "needs_background": "light"
     },
     "output_type": "display_data"
    }
   ],
   "source": [
    "calcDF['slope'].hist()"
   ]
  }
 ],
 "metadata": {
  "kernelspec": {
   "display_name": "Python [conda env:ebike]",
   "language": "python",
   "name": "conda-env-ebike-py"
  },
  "language_info": {
   "codemirror_mode": {
    "name": "ipython",
    "version": 3
   },
   "file_extension": ".py",
   "mimetype": "text/x-python",
   "name": "python",
   "nbconvert_exporter": "python",
   "pygments_lexer": "ipython3",
   "version": "3.9.5"
  }
 },
 "nbformat": 4,
 "nbformat_minor": 2
}
